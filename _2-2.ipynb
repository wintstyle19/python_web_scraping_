{
 "cells": [
  {
   "cell_type": "code",
   "execution_count": 4,
   "metadata": {},
   "outputs": [
    {
     "name": "stdout",
     "output_type": "stream",
     "text": [
      "目前 list 內容: [1, 2, 3, 4, 5, 6]\n"
     ]
    }
   ],
   "source": [
    "# 初始化一個 list\n",
    "ids = [1, 2, 3, 4, 5, 6]\n",
    "\n",
    "print(\"目前 list 內容: {}\".format(ids))"
   ]
  },
  {
   "cell_type": "code",
   "execution_count": 5,
   "metadata": {},
   "outputs": [
    {
     "name": "stdout",
     "output_type": "stream",
     "text": [
      "目前 list 內容: [1, 2, 3, 4, 5, 6, 7]\n"
     ]
    }
   ],
   "source": [
    "# 新增元素在 list 尾端\n",
    "ids.append(7)\n",
    "\n",
    "print(\"目前 list 內容: {}\".format(ids))"
   ]
  },
  {
   "cell_type": "code",
   "execution_count": 6,
   "metadata": {},
   "outputs": [
    {
     "name": "stdout",
     "output_type": "stream",
     "text": [
      "目前 list 內容: [1, 2, 3, 4, 99, 6, 7]\n"
     ]
    }
   ],
   "source": [
    "# 修改索引位置的元素\n",
    "ids[4] = 99\n",
    "\n",
    "print(\"目前 list 內容: {}\".format(ids))"
   ]
  },
  {
   "cell_type": "code",
   "execution_count": 7,
   "metadata": {},
   "outputs": [
    {
     "name": "stdout",
     "output_type": "stream",
     "text": [
      "目前 list 內容: [1, 2, 3, 4, 6, 7]\n"
     ]
    }
   ],
   "source": [
    "# 刪除索引位置的元素\n",
    "ids.pop(4)\n",
    "\n",
    "print(\"目前 list 內容: {}\".format(ids))"
   ]
  },
  {
   "cell_type": "code",
   "execution_count": 8,
   "metadata": {},
   "outputs": [
    {
     "name": "stdout",
     "output_type": "stream",
     "text": [
      "目前 list 內容: [1, 9, 2, 3, 4, 6, 7]\n"
     ]
    }
   ],
   "source": [
    "# 新增元素在指定索引，其餘元素往後移\n",
    "ids.insert(1, 9)\n",
    "\n",
    "'''\n",
    "用法:list.insert(index, elememt)\n",
    "說明:在指定的 index 處，新增 element，原先位置的索引往後移\n",
    "'''\n",
    "\n",
    "print(\"目前 list 內容: {}\".format(ids))"
   ]
  },
  {
   "cell_type": "code",
   "execution_count": 9,
   "metadata": {},
   "outputs": [
    {
     "name": "stdout",
     "output_type": "stream",
     "text": [
      "目前 list 內容: [1, 2, 3, 4, 6, 7]\n"
     ]
    }
   ],
   "source": [
    "# 移除指定的值\n",
    "ids.remove(9)\n",
    "\n",
    "print(\"目前 list 內容: {}\".format(ids))"
   ]
  },
  {
   "cell_type": "code",
   "execution_count": 10,
   "metadata": {},
   "outputs": [],
   "source": [
    "# 初始化一個字串\n",
    "myStr = 'Hello,World!'"
   ]
  },
  {
   "cell_type": "code",
   "execution_count": 11,
   "metadata": {},
   "outputs": [
    {
     "name": "stdout",
     "output_type": "stream",
     "text": [
      "Hello\n",
      "orld!\n",
      "or\n"
     ]
    }
   ],
   "source": [
    "'''\n",
    "透過冒號（:）進行分割\n",
    "'''\n",
    "# 從頭取到 5（不包含第 5 個元素）\n",
    "print( myStr[:5] ) # 冒號前面留空\n",
    "\n",
    "# 從 7 取到尾\n",
    "print( myStr[7:] )  # 冒號後面留空\n",
    "\n",
    "# 從 7 取到 9（不包含第 9 個元素）\n",
    "print( myStr[7:9] )"
   ]
  },
  {
   "cell_type": "code",
   "execution_count": null,
   "metadata": {},
   "outputs": [],
   "source": []
  }
 ],
 "metadata": {
  "kernelspec": {
   "display_name": "Python 3",
   "language": "python",
   "name": "python3"
  },
  "language_info": {
   "codemirror_mode": {
    "name": "ipython",
    "version": 3
   },
   "file_extension": ".py",
   "mimetype": "text/x-python",
   "name": "python",
   "nbconvert_exporter": "python",
   "pygments_lexer": "ipython3",
   "version": "3.6.10"
  }
 },
 "nbformat": 4,
 "nbformat_minor": 4
}
