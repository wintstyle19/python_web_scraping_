{
 "cells": [
  {
   "cell_type": "code",
   "execution_count": 1,
   "metadata": {},
   "outputs": [],
   "source": [
    "# 匯入 regex 套件\n",
    "import re"
   ]
  },
  {
   "cell_type": "code",
   "execution_count": 2,
   "metadata": {},
   "outputs": [
    {
     "name": "stdout",
     "output_type": "stream",
     "text": [
      "<_sre.SRE_Match object; span=(0, 10), match='A123456789'>\n",
      "A123456789\n",
      "1\n",
      "A123456789\n",
      "1\n"
     ]
    }
   ],
   "source": [
    "# search\n",
    "'''\n",
    "說明:re.search 會將整個字串進行搜尋，但只會比對到第一組，match[0]是regex所代表的整個完整比對的字串，match[1]是第一組()中的內容，\n",
    "match[2]是第二組()中的內容...\n",
    "'''\n",
    "regex01 = r'[a-zA-Z]([12])\\d{8}'\n",
    "string01 = \"A123456789, S299888777\"\n",
    "match01 = re.search(regex01, string01)\n",
    "print(match01)\n",
    "print(match01[0])\n",
    "print(match01[1])\n",
    "'''\n",
    "match.group() 或 match.group(0) 是regex所代表的整個完整比對的字串，\n",
    "match.group(1)是第一組()中的內容，\n",
    "match.group(2)是第二組()中的內容...\n",
    "'''\n",
    "print(match01.group(0))\n",
    "print(match01.group(1))"
   ]
  },
  {
   "cell_type": "code",
   "execution_count": 3,
   "metadata": {},
   "outputs": [
    {
     "name": "stdout",
     "output_type": "stream",
     "text": [
      "['0911111111', '0922222222', '0933333333']\n",
      "0911111111\n",
      "0933333333\n"
     ]
    }
   ],
   "source": [
    "# findall\n",
    "'''\n",
    "說明:re.findall 會將所有配對到的字串回傳成一個 list\n",
    "'''\n",
    "regex02 = r'[0-9]+'\n",
    "string02 = \"0911111111, 0922222222, 0933333333\"\n",
    "listMatch02 = re.findall(regex02, string02)\n",
    "print(listMatch02)\n",
    "print(listMatch02[0])\n",
    "print(listMatch02[2])"
   ]
  },
  {
   "cell_type": "code",
   "execution_count": 4,
   "metadata": {},
   "outputs": [
    {
     "name": "stdout",
     "output_type": "stream",
     "text": [
      "0911111111\n",
      "0922222222\n",
      "0933333333\n"
     ]
    }
   ],
   "source": [
    "# finditer\n",
    "'''\n",
    "說明:re.finditer 會將所有配對到的字串以迭代的方式呈現，若沒有配對到，則回傳 None\n",
    "'''\n",
    "regex03 = r'[0-9]+'\n",
    "string03 = \"0911111111, 0922222222, 0933333333\"\n",
    "iterableMatch03 = re.finditer(regex03, string03)\n",
    "if iterableMatch03 != None:\n",
    "    for match in iterableMatch03:\n",
    "        print(match[0])"
   ]
  },
  {
   "cell_type": "code",
   "execution_count": 5,
   "metadata": {},
   "outputs": [
    {
     "name": "stdout",
     "output_type": "stream",
     "text": [
      "<_sre.SRE_Match object; span=(0, 10), match='2020/06/10'>\n",
      "2020/06/10\n",
      "10\n"
     ]
    }
   ],
   "source": [
    "# match\n",
    "'''\n",
    "說明:re.match 與 re.search 的差別，在於 match 會從字串的「開頭」開始比對，比對不到，便回傳 None\n",
    "'''\n",
    "regex04 = r'2[0-9]{3}\\/[0-1]?[0-9]{1}\\/([0-3]?[0-9])' #論日期有效性是不是應該把中間的[0-9]{1}改成[0-2]？\n",
    "string04 = \"2020/06/10\"\n",
    "match04 = re.match(regex04, string04)\n",
    "print(match04)\n",
    "print(match04[0])\n",
    "print(match04[1])"
   ]
  },
  {
   "cell_type": "code",
   "execution_count": 6,
   "metadata": {},
   "outputs": [
    {
     "name": "stdout",
     "output_type": "stream",
     "text": [
      "['One', 'Two', 'Three', 'Four', '']\n"
     ]
    }
   ],
   "source": [
    "# split\n",
    "'''\n",
    "說明:re.split 類似 string.split('separator')，只是用正規表達式來作為 separator，並回傳 list\n",
    "'''\n",
    "regex06 = r'\\d'\n",
    "string06 = \"One1Two2Three3Four4\"\n",
    "listMatch06 = re.split(regex06, string06)\n",
    "print(listMatch06)"
   ]
  },
  {
   "cell_type": "code",
   "execution_count": 9,
   "metadata": {},
   "outputs": [
    {
     "name": "stdout",
     "output_type": "stream",
     "text": [
      "202202141314\n",
      "['2022', '02', '14', '1314']\n",
      "202202141314\n"
     ]
    }
   ],
   "source": [
    "# sub\n",
    "'''\n",
    "說明:re.sub(regex, replace_string, test_string)\n",
    "將 regex 所代表的文字，改成 replace_string，文字來源是 test_string\n",
    "'''\n",
    "regex07 = r\"\\D\"\n",
    "string07 = \"2022-02-14 #1314\"\n",
    "strResult = re.sub(regex07, \"\", string07)\n",
    "print(strResult)\n",
    "\n",
    "regex07_1 = r\"[0-9]+\"\n",
    "listMatch07 = re.findall(regex07_1,string07)\n",
    "print(listMatch07)\n",
    "print(\"\".join(listMatch07))"
   ]
  },
  {
   "cell_type": "code",
   "execution_count": null,
   "metadata": {},
   "outputs": [],
   "source": []
  }
 ],
 "metadata": {
  "kernelspec": {
   "display_name": "Python 3",
   "language": "python",
   "name": "python3"
  },
  "language_info": {
   "codemirror_mode": {
    "name": "ipython",
    "version": 3
   },
   "file_extension": ".py",
   "mimetype": "text/x-python",
   "name": "python",
   "nbconvert_exporter": "python",
   "pygments_lexer": "ipython3",
   "version": "3.6.10"
  }
 },
 "nbformat": 4,
 "nbformat_minor": 4
}
