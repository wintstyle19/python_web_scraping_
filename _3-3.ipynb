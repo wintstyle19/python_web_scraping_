{
 "cells": [
  {
   "cell_type": "code",
   "execution_count": 1,
   "metadata": {},
   "outputs": [
    {
     "name": "stdout",
     "output_type": "stream",
     "text": [
      "con"
     ]
    }
   ],
   "source": [
    "# break\n",
    "'''\n",
    "說明:當偵測到字母 t 時，就會強制結束迴圈\n",
    "'''\n",
    "for string in 'content':\n",
    "    if string == 't':\n",
    "        break\n",
    "    print(string, end=\"\")"
   ]
  },
  {
   "cell_type": "code",
   "execution_count": 2,
   "metadata": {},
   "outputs": [
    {
     "name": "stdout",
     "output_type": "stream",
     "text": [
      "conen"
     ]
    }
   ],
   "source": [
    "# continue\n",
    "'''\n",
    "說明:當偵測到字母 t 時，會跳過本次迴圈剩下的程式碼 print(string)，但不會結束迴圈，仍然會進入下一圈繼續執行\n",
    "'''\n",
    "for string in 'content':\n",
    "    if string == 't':\n",
    "        continue\n",
    "    print(string, end=\"\")"
   ]
  },
  {
   "cell_type": "code",
   "execution_count": 3,
   "metadata": {},
   "outputs": [
    {
     "name": "stdout",
     "output_type": "stream",
     "text": [
      "content"
     ]
    }
   ],
   "source": [
    "# pass\n",
    "'''\n",
    "說明:當偵測到字母 t 時，會忽略該條件，繼續像正常迴圈一樣運行程序\n",
    "備註:有時候寫 pass，是為了將某塊或某行列入 to-do，以後再改成break或continue\n",
    "'''\n",
    "for string in 'content':\n",
    "    if string == 't':\n",
    "        pass\n",
    "    print(string, end=\"\")"
   ]
  },
  {
   "cell_type": "code",
   "execution_count": null,
   "metadata": {},
   "outputs": [],
   "source": []
  }
 ],
 "metadata": {
  "kernelspec": {
   "display_name": "Python 3",
   "language": "python",
   "name": "python3"
  },
  "language_info": {
   "codemirror_mode": {
    "name": "ipython",
    "version": 3
   },
   "file_extension": ".py",
   "mimetype": "text/x-python",
   "name": "python",
   "nbconvert_exporter": "python",
   "pygments_lexer": "ipython3",
   "version": "3.6.10"
  }
 },
 "nbformat": 4,
 "nbformat_minor": 4
}
