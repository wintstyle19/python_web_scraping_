{
 "cells": [
  {
   "cell_type": "code",
   "execution_count": 7,
   "metadata": {},
   "outputs": [
    {
     "name": "stdout",
     "output_type": "stream",
     "text": [
      "貼圖ID: 90983518, 下載連結: https://stickershop.line-scdn.net/stickershop/v1/sticker/90983518/iPhone/sticker_animation@2x.png\n",
      "貼圖ID: 90983519, 下載連結: https://stickershop.line-scdn.net/stickershop/v1/sticker/90983519/iPhone/sticker_animation@2x.png\n",
      "貼圖ID: 90983520, 下載連結: https://stickershop.line-scdn.net/stickershop/v1/sticker/90983520/iPhone/sticker_animation@2x.png\n",
      "貼圖ID: 90983521, 下載連結: https://stickershop.line-scdn.net/stickershop/v1/sticker/90983521/iPhone/sticker_animation@2x.png\n",
      "貼圖ID: 90983522, 下載連結: https://stickershop.line-scdn.net/stickershop/v1/sticker/90983522/iPhone/sticker_animation@2x.png\n",
      "貼圖ID: 90983523, 下載連結: https://stickershop.line-scdn.net/stickershop/v1/sticker/90983523/iPhone/sticker_animation@2x.png\n",
      "貼圖ID: 90983524, 下載連結: https://stickershop.line-scdn.net/stickershop/v1/sticker/90983524/iPhone/sticker_animation@2x.png\n",
      "貼圖ID: 90983525, 下載連結: https://stickershop.line-scdn.net/stickershop/v1/sticker/90983525/iPhone/sticker_animation@2x.png\n",
      "貼圖ID: 90983526, 下載連結: https://stickershop.line-scdn.net/stickershop/v1/sticker/90983526/iPhone/sticker_animation@2x.png\n",
      "貼圖ID: 90983527, 下載連結: https://stickershop.line-scdn.net/stickershop/v1/sticker/90983527/iPhone/sticker_animation@2x.png\n",
      "貼圖ID: 90983528, 下載連結: https://stickershop.line-scdn.net/stickershop/v1/sticker/90983528/iPhone/sticker_animation@2x.png\n",
      "貼圖ID: 90983529, 下載連結: https://stickershop.line-scdn.net/stickershop/v1/sticker/90983529/iPhone/sticker_animation@2x.png\n",
      "貼圖ID: 90983530, 下載連結: https://stickershop.line-scdn.net/stickershop/v1/sticker/90983530/iPhone/sticker_animation@2x.png\n",
      "貼圖ID: 90983531, 下載連結: https://stickershop.line-scdn.net/stickershop/v1/sticker/90983531/iPhone/sticker_animation@2x.png\n",
      "貼圖ID: 90983532, 下載連結: https://stickershop.line-scdn.net/stickershop/v1/sticker/90983532/iPhone/sticker_animation@2x.png\n",
      "貼圖ID: 90983533, 下載連結: https://stickershop.line-scdn.net/stickershop/v1/sticker/90983533/iPhone/sticker_animation@2x.png\n",
      "貼圖ID: 90983534, 下載連結: https://stickershop.line-scdn.net/stickershop/v1/sticker/90983534/iPhone/sticker_animation@2x.png\n",
      "貼圖ID: 90983535, 下載連結: https://stickershop.line-scdn.net/stickershop/v1/sticker/90983535/iPhone/sticker_animation@2x.png\n",
      "貼圖ID: 90983536, 下載連結: https://stickershop.line-scdn.net/stickershop/v1/sticker/90983536/iPhone/sticker_animation@2x.png\n",
      "貼圖ID: 90983537, 下載連結: https://stickershop.line-scdn.net/stickershop/v1/sticker/90983537/iPhone/sticker_animation@2x.png\n",
      "貼圖ID: 90983538, 下載連結: https://stickershop.line-scdn.net/stickershop/v1/sticker/90983538/iPhone/sticker_animation@2x.png\n",
      "貼圖ID: 90983539, 下載連結: https://stickershop.line-scdn.net/stickershop/v1/sticker/90983539/iPhone/sticker_animation@2x.png\n",
      "貼圖ID: 90983540, 下載連結: https://stickershop.line-scdn.net/stickershop/v1/sticker/90983540/iPhone/sticker_animation@2x.png\n",
      "貼圖ID: 90983541, 下載連結: https://stickershop.line-scdn.net/stickershop/v1/sticker/90983541/iPhone/sticker_animation@2x.png\n"
     ]
    }
   ],
   "source": [
    "import requests as rq\n",
    "import pprint, os, json\n",
    "from bs4 import BeautifulSoup as bs\n",
    "\n",
    "# 建立儲存圖片的資料夾，不存在就新增\n",
    "folderPath = 'line_stickers'\n",
    "if not os.path.exists(folderPath):\n",
    "    os.makedirs(folderPath)\n",
    "    \n",
    "#放貼圖資訊用\n",
    "listLineStickers = []\n",
    "\n",
    "#自訂標頭\n",
    "my_headers = {\n",
    "    'user-agent':'Mozilla/5.0 (Macintosh; Intel Mac OS X 10_15_7) AppleWebKit/537.36 (KHTML, like Gecko) Chrome/96.0.4664.110 Safari/537.36'\n",
    "}\n",
    "\n",
    "# 官方 LINE 貼圖的網址\n",
    "url = 'https://store.line.me/stickershop/product/12565'\n",
    "\n",
    "#取得 reponse\n",
    "response = rq.get(url, headers = my_headers)\n",
    "\n",
    "#print(response.text) 檢查是否真的有東西\n",
    "\n",
    "# 建立 soup 物件\n",
    "soup = bs(response.text, 'lxml')\n",
    "\n",
    "# 取得放置貼圖的 li 元素 (list 型態)\n",
    "li_elements = soup.select(\"ul.mdCMN09Ul.FnStickerList > li.mdCMN09Li.FnStickerPreviewItem\")\n",
    "\n",
    "# 逐一取得 li 元素中的 data-preview 資訊\n",
    "for li in li_elements:\n",
    "    # 取得 data-preview 屬性的值(字串)\n",
    "    strJson = li['data-preview'] # 另一種寫法：li.get(\"data-preview\")\n",
    "    \n",
    "    #把屬性的值(字串)轉成物件 \n",
    "    obj = json.loads(strJson)\n",
    "    \n",
    "    # 將重要資訊放置在 list 當中，幫助我們稍候進行資料下載與儲存\n",
    "    listLineStickers.append(obj)\n",
    "\n",
    "#print(listLineStickers)\n",
    "\n",
    "# 下載圖片\n",
    "for obj in listLineStickers: \n",
    "    os.system(f\"curl {obj['animationUrl']} -o {folderPath}/{obj['id']}.png\")\n",
    "    print(f\"貼圖ID: {obj['id']}, 下載連結: {obj['animationUrl']}\")\n"
   ]
  },
  {
   "cell_type": "code",
   "execution_count": null,
   "metadata": {},
   "outputs": [],
   "source": []
  },
  {
   "cell_type": "code",
   "execution_count": null,
   "metadata": {},
   "outputs": [],
   "source": []
  }
 ],
 "metadata": {
  "kernelspec": {
   "display_name": "Python 3",
   "language": "python",
   "name": "python3"
  },
  "language_info": {
   "codemirror_mode": {
    "name": "ipython",
    "version": 3
   },
   "file_extension": ".py",
   "mimetype": "text/x-python",
   "name": "python",
   "nbconvert_exporter": "python",
   "pygments_lexer": "ipython3",
   "version": "3.6.10"
  }
 },
 "nbformat": 4,
 "nbformat_minor": 4
}
